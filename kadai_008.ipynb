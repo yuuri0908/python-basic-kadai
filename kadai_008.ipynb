{
  "nbformat": 4,
  "nbformat_minor": 0,
  "metadata": {
    "colab": {
      "provenance": [],
      "authorship_tag": "ABX9TyOiwNmsZwOFSK2hSccnYxjq",
      "include_colab_link": true
    },
    "kernelspec": {
      "name": "python3",
      "display_name": "Python 3"
    },
    "language_info": {
      "name": "python"
    }
  },
  "cells": [
    {
      "cell_type": "markdown",
      "metadata": {
        "id": "view-in-github",
        "colab_type": "text"
      },
      "source": [
        "<a href=\"https://colab.research.google.com/github/yuuri0908/python-basic-kadai/blob/main/kadai_008.ipynb\" target=\"_parent\"><img src=\"https://colab.research.google.com/assets/colab-badge.svg\" alt=\"Open In Colab\"/></a>"
      ]
    },
    {
      "cell_type": "code",
      "execution_count": 2,
      "metadata": {
        "colab": {
          "base_uri": "https://localhost:8080/"
        },
        "id": "KEBMVnwXf70U",
        "outputId": "c5149d0e-3308-42c4-b35e-cb377356b5e2"
      },
      "outputs": [
        {
          "output_type": "stream",
          "name": "stdout",
          "text": [
            "FizzBuzzz\n"
          ]
        }
      ],
      "source": [
        "var = 15\n",
        "\n",
        "if var % 3 ==0 & var % 5 ==0:\n",
        "  print(\"FizzBuzzz\")\n",
        "elif  var % 3 ==0:\n",
        "  print(\"Fizz\")\n",
        "elif  var % 5 ==0:\n",
        "  print(\"Buzz\")\n",
        "else:\n",
        "  print(var)"
      ]
    },
    {
      "cell_type": "code",
      "source": [],
      "metadata": {
        "id": "1WSI4en5gkUK"
      },
      "execution_count": null,
      "outputs": []
    }
  ]
}