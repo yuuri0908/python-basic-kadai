{
  "nbformat": 4,
  "nbformat_minor": 0,
  "metadata": {
    "colab": {
      "provenance": [],
      "authorship_tag": "ABX9TyOmNBjFjTGNeBK/aWbud5Js",
      "include_colab_link": true
    },
    "kernelspec": {
      "name": "python3",
      "display_name": "Python 3"
    },
    "language_info": {
      "name": "python"
    }
  },
  "cells": [
    {
      "cell_type": "markdown",
      "metadata": {
        "id": "view-in-github",
        "colab_type": "text"
      },
      "source": [
        "<a href=\"https://colab.research.google.com/github/yuuri0908/python-basic-kadai/blob/main/kadai_017.ipynb\" target=\"_parent\"><img src=\"https://colab.research.google.com/assets/colab-badge.svg\" alt=\"Open In Colab\"/></a>"
      ]
    },
    {
      "cell_type": "code",
      "execution_count": 31,
      "metadata": {
        "colab": {
          "base_uri": "https://localhost:8080/"
        },
        "id": "L2pJRuNnxrJ3",
        "outputId": "e14be001-063e-4c97-e3d2-498630aad7fb"
      },
      "outputs": [
        {
          "output_type": "stream",
          "name": "stdout",
          "text": [
            "Karen:大人\n",
            "Noki:大人\n",
            "Togashi:子供\n",
            "Shogo:子供\n"
          ]
        }
      ],
      "source": [
        "class Human():\n",
        "\n",
        "\n",
        "  def __init__(self,name,age):\n",
        "\n",
        "    self.name=name\n",
        "    self.age=age\n",
        "\n",
        "\n",
        "\n",
        "  def check_adult(self):\n",
        "\n",
        "\n",
        "      if self.age > 20:\n",
        "       print(f\"{self.name}:大人\")\n",
        "      else:\n",
        "       print(f\"{self.name}:子供\")\n",
        "\n",
        "K = Human(\"Karen\",29)\n",
        "N = Human(\"Noki\",23)\n",
        "T = Human(\"Togashi\",14)\n",
        "S = Human(\"Shogo\",11)\n",
        "\n",
        "\n",
        "humans = [Human(\"Karen\",29), Human(\"Noki\",23), Human(\"Togashi\",14),Human(\"Shogo\",11\n",
        "                                                                         )]\n",
        "\n",
        "for human in humans:\n",
        "  human.check_adult()\n",
        "\n",
        "\n"
      ]
    },
    {
      "cell_type": "code",
      "source": [],
      "metadata": {
        "id": "105-Arufzsvh"
      },
      "execution_count": null,
      "outputs": []
    }
  ]
}